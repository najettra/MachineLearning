{
 "cells": [
  {
   "cell_type": "code",
   "execution_count": 1,
   "metadata": {},
   "outputs": [],
   "source": [
    "import pandas as pd\n",
    "import numpy as np\n",
    "import json\n",
    "import matplotlib.pyplot as plt\n",
    "import seaborn as sns"
   ]
  },
  {
   "cell_type": "code",
   "execution_count": 2,
   "metadata": {},
   "outputs": [],
   "source": [
    "movie_df= pd.read_csv('tmdb_5000_movies.csv')"
   ]
  },
  {
   "cell_type": "code",
   "execution_count": 3,
   "metadata": {},
   "outputs": [
    {
     "name": "stdout",
     "output_type": "stream",
     "text": [
      "<class 'pandas.core.frame.DataFrame'>\n",
      "RangeIndex: 4803 entries, 0 to 4802\n",
      "Data columns (total 20 columns):\n",
      "budget                  4803 non-null int64\n",
      "genres                  4803 non-null object\n",
      "homepage                1712 non-null object\n",
      "id                      4803 non-null int64\n",
      "keywords                4803 non-null object\n",
      "original_language       4803 non-null object\n",
      "original_title          4803 non-null object\n",
      "overview                4800 non-null object\n",
      "popularity              4803 non-null float64\n",
      "production_companies    4803 non-null object\n",
      "production_countries    4803 non-null object\n",
      "release_date            4802 non-null object\n",
      "revenue                 4803 non-null int64\n",
      "runtime                 4801 non-null float64\n",
      "spoken_languages        4803 non-null object\n",
      "status                  4803 non-null object\n",
      "tagline                 3959 non-null object\n",
      "title                   4803 non-null object\n",
      "vote_average            4803 non-null float64\n",
      "vote_count              4803 non-null int64\n",
      "dtypes: float64(3), int64(4), object(13)\n",
      "memory usage: 750.5+ KB\n"
     ]
    }
   ],
   "source": [
    "movie_df.info()"
   ]
  },
  {
   "cell_type": "code",
   "execution_count": 4,
   "metadata": {},
   "outputs": [],
   "source": [
    "movies = movie_df[['budget','id','popularity','revenue','runtime','vote_average','vote_count']]"
   ]
  },
  {
   "cell_type": "code",
   "execution_count": 5,
   "metadata": {},
   "outputs": [
    {
     "data": {
      "text/html": [
       "<div>\n",
       "<style scoped>\n",
       "    .dataframe tbody tr th:only-of-type {\n",
       "        vertical-align: middle;\n",
       "    }\n",
       "\n",
       "    .dataframe tbody tr th {\n",
       "        vertical-align: top;\n",
       "    }\n",
       "\n",
       "    .dataframe thead th {\n",
       "        text-align: right;\n",
       "    }\n",
       "</style>\n",
       "<table border=\"1\" class=\"dataframe\">\n",
       "  <thead>\n",
       "    <tr style=\"text-align: right;\">\n",
       "      <th></th>\n",
       "      <th>budget</th>\n",
       "      <th>id</th>\n",
       "      <th>popularity</th>\n",
       "      <th>revenue</th>\n",
       "      <th>runtime</th>\n",
       "      <th>vote_average</th>\n",
       "      <th>vote_count</th>\n",
       "    </tr>\n",
       "  </thead>\n",
       "  <tbody>\n",
       "    <tr>\n",
       "      <th>0</th>\n",
       "      <td>237000000</td>\n",
       "      <td>19995</td>\n",
       "      <td>150.437577</td>\n",
       "      <td>2787965087</td>\n",
       "      <td>162.0</td>\n",
       "      <td>7.2</td>\n",
       "      <td>11800</td>\n",
       "    </tr>\n",
       "    <tr>\n",
       "      <th>1</th>\n",
       "      <td>300000000</td>\n",
       "      <td>285</td>\n",
       "      <td>139.082615</td>\n",
       "      <td>961000000</td>\n",
       "      <td>169.0</td>\n",
       "      <td>6.9</td>\n",
       "      <td>4500</td>\n",
       "    </tr>\n",
       "    <tr>\n",
       "      <th>2</th>\n",
       "      <td>245000000</td>\n",
       "      <td>206647</td>\n",
       "      <td>107.376788</td>\n",
       "      <td>880674609</td>\n",
       "      <td>148.0</td>\n",
       "      <td>6.3</td>\n",
       "      <td>4466</td>\n",
       "    </tr>\n",
       "    <tr>\n",
       "      <th>3</th>\n",
       "      <td>250000000</td>\n",
       "      <td>49026</td>\n",
       "      <td>112.312950</td>\n",
       "      <td>1084939099</td>\n",
       "      <td>165.0</td>\n",
       "      <td>7.6</td>\n",
       "      <td>9106</td>\n",
       "    </tr>\n",
       "    <tr>\n",
       "      <th>4</th>\n",
       "      <td>260000000</td>\n",
       "      <td>49529</td>\n",
       "      <td>43.926995</td>\n",
       "      <td>284139100</td>\n",
       "      <td>132.0</td>\n",
       "      <td>6.1</td>\n",
       "      <td>2124</td>\n",
       "    </tr>\n",
       "  </tbody>\n",
       "</table>\n",
       "</div>"
      ],
      "text/plain": [
       "      budget      id  popularity     revenue  runtime  vote_average  \\\n",
       "0  237000000   19995  150.437577  2787965087    162.0           7.2   \n",
       "1  300000000     285  139.082615   961000000    169.0           6.9   \n",
       "2  245000000  206647  107.376788   880674609    148.0           6.3   \n",
       "3  250000000   49026  112.312950  1084939099    165.0           7.6   \n",
       "4  260000000   49529   43.926995   284139100    132.0           6.1   \n",
       "\n",
       "   vote_count  \n",
       "0       11800  \n",
       "1        4500  \n",
       "2        4466  \n",
       "3        9106  \n",
       "4        2124  "
      ]
     },
     "execution_count": 5,
     "metadata": {},
     "output_type": "execute_result"
    }
   ],
   "source": [
    "movies.head()"
   ]
  },
  {
   "cell_type": "code",
   "execution_count": 6,
   "metadata": {},
   "outputs": [
    {
     "name": "stdout",
     "output_type": "stream",
     "text": [
      "<class 'pandas.core.frame.DataFrame'>\n",
      "RangeIndex: 4803 entries, 0 to 4802\n",
      "Data columns (total 7 columns):\n",
      "budget          4803 non-null int64\n",
      "id              4803 non-null int64\n",
      "popularity      4803 non-null float64\n",
      "revenue         4803 non-null int64\n",
      "runtime         4801 non-null float64\n",
      "vote_average    4803 non-null float64\n",
      "vote_count      4803 non-null int64\n",
      "dtypes: float64(3), int64(4)\n",
      "memory usage: 262.7 KB\n"
     ]
    }
   ],
   "source": [
    "movies.info()"
   ]
  },
  {
   "cell_type": "code",
   "execution_count": 7,
   "metadata": {},
   "outputs": [
    {
     "data": {
      "text/plain": [
       "budget          0\n",
       "id              0\n",
       "popularity      0\n",
       "revenue         0\n",
       "runtime         2\n",
       "vote_average    0\n",
       "vote_count      0\n",
       "dtype: int64"
      ]
     },
     "execution_count": 7,
     "metadata": {},
     "output_type": "execute_result"
    }
   ],
   "source": [
    "movies.isnull().sum()"
   ]
  },
  {
   "cell_type": "code",
   "execution_count": 8,
   "metadata": {},
   "outputs": [
    {
     "name": "stderr",
     "output_type": "stream",
     "text": [
      "/home/najet/.local/lib/python3.5/site-packages/ipykernel_launcher.py:1: SettingWithCopyWarning: \n",
      "A value is trying to be set on a copy of a slice from a DataFrame.\n",
      "Try using .loc[row_indexer,col_indexer] = value instead\n",
      "\n",
      "See the caveats in the documentation: http://pandas.pydata.org/pandas-docs/stable/indexing.html#indexing-view-versus-copy\n",
      "  \"\"\"Entry point for launching an IPython kernel.\n"
     ]
    }
   ],
   "source": [
    "movies['runtime'] = movies['runtime'].fillna(movies['runtime'].mean())"
   ]
  },
  {
   "cell_type": "code",
   "execution_count": 9,
   "metadata": {},
   "outputs": [
    {
     "data": {
      "text/plain": [
       "budget          0\n",
       "id              0\n",
       "popularity      0\n",
       "revenue         0\n",
       "runtime         0\n",
       "vote_average    0\n",
       "vote_count      0\n",
       "dtype: int64"
      ]
     },
     "execution_count": 9,
     "metadata": {},
     "output_type": "execute_result"
    }
   ],
   "source": [
    "movies.isnull().sum()"
   ]
  },
  {
   "cell_type": "code",
   "execution_count": 10,
   "metadata": {},
   "outputs": [
    {
     "data": {
      "text/html": [
       "<div>\n",
       "<style scoped>\n",
       "    .dataframe tbody tr th:only-of-type {\n",
       "        vertical-align: middle;\n",
       "    }\n",
       "\n",
       "    .dataframe tbody tr th {\n",
       "        vertical-align: top;\n",
       "    }\n",
       "\n",
       "    .dataframe thead th {\n",
       "        text-align: right;\n",
       "    }\n",
       "</style>\n",
       "<table border=\"1\" class=\"dataframe\">\n",
       "  <thead>\n",
       "    <tr style=\"text-align: right;\">\n",
       "      <th></th>\n",
       "      <th>budget</th>\n",
       "      <th>id</th>\n",
       "      <th>popularity</th>\n",
       "      <th>revenue</th>\n",
       "      <th>runtime</th>\n",
       "      <th>vote_average</th>\n",
       "      <th>vote_count</th>\n",
       "    </tr>\n",
       "  </thead>\n",
       "  <tbody>\n",
       "    <tr>\n",
       "      <th>4793</th>\n",
       "      <td>0</td>\n",
       "      <td>182291</td>\n",
       "      <td>0.029757</td>\n",
       "      <td>0</td>\n",
       "      <td>90.0</td>\n",
       "      <td>6.0</td>\n",
       "      <td>2</td>\n",
       "    </tr>\n",
       "    <tr>\n",
       "      <th>4572</th>\n",
       "      <td>225000</td>\n",
       "      <td>15389</td>\n",
       "      <td>1.014966</td>\n",
       "      <td>0</td>\n",
       "      <td>98.0</td>\n",
       "      <td>7.0</td>\n",
       "      <td>38</td>\n",
       "    </tr>\n",
       "    <tr>\n",
       "      <th>1795</th>\n",
       "      <td>26000000</td>\n",
       "      <td>11509</td>\n",
       "      <td>10.981038</td>\n",
       "      <td>0</td>\n",
       "      <td>127.0</td>\n",
       "      <td>7.1</td>\n",
       "      <td>146</td>\n",
       "    </tr>\n",
       "    <tr>\n",
       "      <th>246</th>\n",
       "      <td>110000000</td>\n",
       "      <td>2024</td>\n",
       "      <td>23.657284</td>\n",
       "      <td>215294342</td>\n",
       "      <td>165.0</td>\n",
       "      <td>6.8</td>\n",
       "      <td>1099</td>\n",
       "    </tr>\n",
       "    <tr>\n",
       "      <th>4185</th>\n",
       "      <td>0</td>\n",
       "      <td>9783</td>\n",
       "      <td>6.833164</td>\n",
       "      <td>0</td>\n",
       "      <td>113.0</td>\n",
       "      <td>5.3</td>\n",
       "      <td>33</td>\n",
       "    </tr>\n",
       "    <tr>\n",
       "      <th>3360</th>\n",
       "      <td>7000000</td>\n",
       "      <td>2662</td>\n",
       "      <td>19.301432</td>\n",
       "      <td>16829545</td>\n",
       "      <td>89.0</td>\n",
       "      <td>6.0</td>\n",
       "      <td>306</td>\n",
       "    </tr>\n",
       "    <tr>\n",
       "      <th>2172</th>\n",
       "      <td>20000000</td>\n",
       "      <td>226857</td>\n",
       "      <td>27.256849</td>\n",
       "      <td>34077920</td>\n",
       "      <td>103.0</td>\n",
       "      <td>6.7</td>\n",
       "      <td>542</td>\n",
       "    </tr>\n",
       "    <tr>\n",
       "      <th>1426</th>\n",
       "      <td>35000000</td>\n",
       "      <td>14175</td>\n",
       "      <td>14.051852</td>\n",
       "      <td>19478106</td>\n",
       "      <td>76.0</td>\n",
       "      <td>5.2</td>\n",
       "      <td>235</td>\n",
       "    </tr>\n",
       "    <tr>\n",
       "      <th>1525</th>\n",
       "      <td>31500000</td>\n",
       "      <td>28</td>\n",
       "      <td>49.973462</td>\n",
       "      <td>89460381</td>\n",
       "      <td>153.0</td>\n",
       "      <td>8.0</td>\n",
       "      <td>2055</td>\n",
       "    </tr>\n",
       "    <tr>\n",
       "      <th>4134</th>\n",
       "      <td>0</td>\n",
       "      <td>18238</td>\n",
       "      <td>6.632891</td>\n",
       "      <td>0</td>\n",
       "      <td>86.0</td>\n",
       "      <td>5.3</td>\n",
       "      <td>124</td>\n",
       "    </tr>\n",
       "  </tbody>\n",
       "</table>\n",
       "</div>"
      ],
      "text/plain": [
       "         budget      id  popularity    revenue  runtime  vote_average  \\\n",
       "4793          0  182291    0.029757          0     90.0           6.0   \n",
       "4572     225000   15389    1.014966          0     98.0           7.0   \n",
       "1795   26000000   11509   10.981038          0    127.0           7.1   \n",
       "246   110000000    2024   23.657284  215294342    165.0           6.8   \n",
       "4185          0    9783    6.833164          0    113.0           5.3   \n",
       "3360    7000000    2662   19.301432   16829545     89.0           6.0   \n",
       "2172   20000000  226857   27.256849   34077920    103.0           6.7   \n",
       "1426   35000000   14175   14.051852   19478106     76.0           5.2   \n",
       "1525   31500000      28   49.973462   89460381    153.0           8.0   \n",
       "4134          0   18238    6.632891          0     86.0           5.3   \n",
       "\n",
       "      vote_count  \n",
       "4793           2  \n",
       "4572          38  \n",
       "1795         146  \n",
       "246         1099  \n",
       "4185          33  \n",
       "3360         306  \n",
       "2172         542  \n",
       "1426         235  \n",
       "1525        2055  \n",
       "4134         124  "
      ]
     },
     "execution_count": 10,
     "metadata": {},
     "output_type": "execute_result"
    }
   ],
   "source": [
    "movies.sample(10)"
   ]
  },
  {
   "cell_type": "code",
   "execution_count": 11,
   "metadata": {},
   "outputs": [
    {
     "data": {
      "text/html": [
       "<div>\n",
       "<style scoped>\n",
       "    .dataframe tbody tr th:only-of-type {\n",
       "        vertical-align: middle;\n",
       "    }\n",
       "\n",
       "    .dataframe tbody tr th {\n",
       "        vertical-align: top;\n",
       "    }\n",
       "\n",
       "    .dataframe thead th {\n",
       "        text-align: right;\n",
       "    }\n",
       "</style>\n",
       "<table border=\"1\" class=\"dataframe\">\n",
       "  <thead>\n",
       "    <tr style=\"text-align: right;\">\n",
       "      <th></th>\n",
       "      <th>budget</th>\n",
       "      <th>id</th>\n",
       "      <th>popularity</th>\n",
       "      <th>revenue</th>\n",
       "      <th>runtime</th>\n",
       "      <th>vote_average</th>\n",
       "      <th>vote_count</th>\n",
       "    </tr>\n",
       "  </thead>\n",
       "  <tbody>\n",
       "    <tr>\n",
       "      <th>count</th>\n",
       "      <td>4.803000e+03</td>\n",
       "      <td>4803.000000</td>\n",
       "      <td>4803.000000</td>\n",
       "      <td>4.803000e+03</td>\n",
       "      <td>4803.000000</td>\n",
       "      <td>4803.000000</td>\n",
       "      <td>4803.000000</td>\n",
       "    </tr>\n",
       "    <tr>\n",
       "      <th>mean</th>\n",
       "      <td>2.904504e+07</td>\n",
       "      <td>57165.484281</td>\n",
       "      <td>21.492301</td>\n",
       "      <td>8.226064e+07</td>\n",
       "      <td>106.875859</td>\n",
       "      <td>6.092172</td>\n",
       "      <td>690.217989</td>\n",
       "    </tr>\n",
       "    <tr>\n",
       "      <th>std</th>\n",
       "      <td>4.072239e+07</td>\n",
       "      <td>88694.614033</td>\n",
       "      <td>31.816650</td>\n",
       "      <td>1.628571e+08</td>\n",
       "      <td>22.607225</td>\n",
       "      <td>1.194612</td>\n",
       "      <td>1234.585891</td>\n",
       "    </tr>\n",
       "    <tr>\n",
       "      <th>min</th>\n",
       "      <td>0.000000e+00</td>\n",
       "      <td>5.000000</td>\n",
       "      <td>0.000000</td>\n",
       "      <td>0.000000e+00</td>\n",
       "      <td>0.000000</td>\n",
       "      <td>0.000000</td>\n",
       "      <td>0.000000</td>\n",
       "    </tr>\n",
       "    <tr>\n",
       "      <th>25%</th>\n",
       "      <td>7.900000e+05</td>\n",
       "      <td>9014.500000</td>\n",
       "      <td>4.668070</td>\n",
       "      <td>0.000000e+00</td>\n",
       "      <td>94.000000</td>\n",
       "      <td>5.600000</td>\n",
       "      <td>54.000000</td>\n",
       "    </tr>\n",
       "    <tr>\n",
       "      <th>50%</th>\n",
       "      <td>1.500000e+07</td>\n",
       "      <td>14629.000000</td>\n",
       "      <td>12.921594</td>\n",
       "      <td>1.917000e+07</td>\n",
       "      <td>103.000000</td>\n",
       "      <td>6.200000</td>\n",
       "      <td>235.000000</td>\n",
       "    </tr>\n",
       "    <tr>\n",
       "      <th>75%</th>\n",
       "      <td>4.000000e+07</td>\n",
       "      <td>58610.500000</td>\n",
       "      <td>28.313505</td>\n",
       "      <td>9.291719e+07</td>\n",
       "      <td>117.500000</td>\n",
       "      <td>6.800000</td>\n",
       "      <td>737.000000</td>\n",
       "    </tr>\n",
       "    <tr>\n",
       "      <th>max</th>\n",
       "      <td>3.800000e+08</td>\n",
       "      <td>459488.000000</td>\n",
       "      <td>875.581305</td>\n",
       "      <td>2.787965e+09</td>\n",
       "      <td>338.000000</td>\n",
       "      <td>10.000000</td>\n",
       "      <td>13752.000000</td>\n",
       "    </tr>\n",
       "  </tbody>\n",
       "</table>\n",
       "</div>"
      ],
      "text/plain": [
       "             budget             id   popularity       revenue      runtime  \\\n",
       "count  4.803000e+03    4803.000000  4803.000000  4.803000e+03  4803.000000   \n",
       "mean   2.904504e+07   57165.484281    21.492301  8.226064e+07   106.875859   \n",
       "std    4.072239e+07   88694.614033    31.816650  1.628571e+08    22.607225   \n",
       "min    0.000000e+00       5.000000     0.000000  0.000000e+00     0.000000   \n",
       "25%    7.900000e+05    9014.500000     4.668070  0.000000e+00    94.000000   \n",
       "50%    1.500000e+07   14629.000000    12.921594  1.917000e+07   103.000000   \n",
       "75%    4.000000e+07   58610.500000    28.313505  9.291719e+07   117.500000   \n",
       "max    3.800000e+08  459488.000000   875.581305  2.787965e+09   338.000000   \n",
       "\n",
       "       vote_average    vote_count  \n",
       "count   4803.000000   4803.000000  \n",
       "mean       6.092172    690.217989  \n",
       "std        1.194612   1234.585891  \n",
       "min        0.000000      0.000000  \n",
       "25%        5.600000     54.000000  \n",
       "50%        6.200000    235.000000  \n",
       "75%        6.800000    737.000000  \n",
       "max       10.000000  13752.000000  "
      ]
     },
     "execution_count": 11,
     "metadata": {},
     "output_type": "execute_result"
    }
   ],
   "source": [
    "movies.describe()"
   ]
  },
  {
   "cell_type": "code",
   "execution_count": 12,
   "metadata": {},
   "outputs": [
    {
     "data": {
      "text/plain": [
       "0            1037\n",
       "20000000      144\n",
       "30000000      128\n",
       "25000000      126\n",
       "40000000      123\n",
       "15000000      120\n",
       "35000000      102\n",
       "10000000      101\n",
       "50000000      101\n",
       "60000000       86\n",
       "5000000        84\n",
       "12000000       79\n",
       "8000000        62\n",
       "70000000       60\n",
       "80000000       59\n",
       "18000000       59\n",
       "6000000        55\n",
       "7000000        55\n",
       "2000000        54\n",
       "45000000       52\n",
       "3000000        51\n",
       "4000000        49\n",
       "1000000        48\n",
       "75000000       47\n",
       "55000000       45\n",
       "28000000       42\n",
       "100000000      41\n",
       "150000000      41\n",
       "11000000       41\n",
       "13000000       41\n",
       "             ... \n",
       "41677699        1\n",
       "123000000       1\n",
       "1650000         1\n",
       "3700000         1\n",
       "10200000        1\n",
       "1488423         1\n",
       "20500000        1\n",
       "12899867        1\n",
       "180000          1\n",
       "237000000       1\n",
       "56000           1\n",
       "325000          1\n",
       "2280000         1\n",
       "15300000        1\n",
       "3100000         1\n",
       "2540800         1\n",
       "19500000        1\n",
       "12516654        1\n",
       "2627000         1\n",
       "10284523        1\n",
       "14200000        1\n",
       "22000           1\n",
       "97250400        1\n",
       "78146652        1\n",
       "3730500         1\n",
       "280000000       1\n",
       "2053648         1\n",
       "85000           1\n",
       "52500000        1\n",
       "40600000        1\n",
       "Name: budget, Length: 436, dtype: int64"
      ]
     },
     "execution_count": 12,
     "metadata": {},
     "output_type": "execute_result"
    }
   ],
   "source": [
    "movies['budget'].value_counts()"
   ]
  },
  {
   "cell_type": "code",
   "execution_count": 13,
   "metadata": {},
   "outputs": [
    {
     "data": {
      "text/plain": [
       "0            1427\n",
       "7000000         6\n",
       "8000000         6\n",
       "6000000         5\n",
       "12000000        5\n",
       "10000000        5\n",
       "100000000       5\n",
       "14000000        4\n",
       "25000000        4\n",
       "11000000        4\n",
       "5000000         4\n",
       "32000000        3\n",
       "13000000        3\n",
       "60000000        3\n",
       "7800000         3\n",
       "14400000        3\n",
       "4000000         3\n",
       "17000000        3\n",
       "30000000        3\n",
       "77000000        2\n",
       "20000000        2\n",
       "29000000        2\n",
       "42000000        2\n",
       "2200000         2\n",
       "8500000         2\n",
       "24000000        2\n",
       "102000000       2\n",
       "9000000         2\n",
       "15000000        2\n",
       "33400000        2\n",
       "             ... \n",
       "157887643       1\n",
       "18195610        1\n",
       "482860185       1\n",
       "10501938        1\n",
       "325233863       1\n",
       "16633035        1\n",
       "53191886        1\n",
       "273552592       1\n",
       "47042000        1\n",
       "275293450       1\n",
       "786636033       1\n",
       "538400000       1\n",
       "32204030        1\n",
       "30411183        1\n",
       "91636986        1\n",
       "82087155        1\n",
       "82150642        1\n",
       "48190704        1\n",
       "104303851       1\n",
       "2401510         1\n",
       "15200000        1\n",
       "109906372       1\n",
       "83719388        1\n",
       "193355800       1\n",
       "136621271       1\n",
       "32726956        1\n",
       "4420000         1\n",
       "26096852        1\n",
       "79817939        1\n",
       "10680275        1\n",
       "Name: revenue, Length: 3297, dtype: int64"
      ]
     },
     "execution_count": 13,
     "metadata": {},
     "output_type": "execute_result"
    }
   ],
   "source": [
    "movies['revenue'].value_counts()"
   ]
  },
  {
   "cell_type": "code",
   "execution_count": 14,
   "metadata": {},
   "outputs": [
    {
     "name": "stderr",
     "output_type": "stream",
     "text": [
      "/usr/local/lib/python3.5/dist-packages/pandas/core/frame.py:3140: SettingWithCopyWarning: \n",
      "A value is trying to be set on a copy of a slice from a DataFrame.\n",
      "Try using .loc[row_indexer,col_indexer] = value instead\n",
      "\n",
      "See the caveats in the documentation: http://pandas.pydata.org/pandas-docs/stable/indexing.html#indexing-view-versus-copy\n",
      "  self[k1] = value[k2]\n"
     ]
    }
   ],
   "source": [
    "movies[['budget','revenue']]=movies[['budget','revenue']].replace(0,np.nan)"
   ]
  },
  {
   "cell_type": "code",
   "execution_count": 15,
   "metadata": {},
   "outputs": [
    {
     "name": "stderr",
     "output_type": "stream",
     "text": [
      "/home/najet/.local/lib/python3.5/site-packages/ipykernel_launcher.py:1: SettingWithCopyWarning: \n",
      "A value is trying to be set on a copy of a slice from a DataFrame\n",
      "\n",
      "See the caveats in the documentation: http://pandas.pydata.org/pandas-docs/stable/indexing.html#indexing-view-versus-copy\n",
      "  \"\"\"Entry point for launching an IPython kernel.\n"
     ]
    }
   ],
   "source": [
    "movies.dropna(subset=['budget','revenue'], axis=0, inplace=True)"
   ]
  },
  {
   "cell_type": "code",
   "execution_count": 16,
   "metadata": {},
   "outputs": [
    {
     "data": {
      "text/html": [
       "<div>\n",
       "<style scoped>\n",
       "    .dataframe tbody tr th:only-of-type {\n",
       "        vertical-align: middle;\n",
       "    }\n",
       "\n",
       "    .dataframe tbody tr th {\n",
       "        vertical-align: top;\n",
       "    }\n",
       "\n",
       "    .dataframe thead th {\n",
       "        text-align: right;\n",
       "    }\n",
       "</style>\n",
       "<table border=\"1\" class=\"dataframe\">\n",
       "  <thead>\n",
       "    <tr style=\"text-align: right;\">\n",
       "      <th></th>\n",
       "      <th>budget</th>\n",
       "      <th>id</th>\n",
       "      <th>popularity</th>\n",
       "      <th>revenue</th>\n",
       "      <th>runtime</th>\n",
       "      <th>vote_average</th>\n",
       "      <th>vote_count</th>\n",
       "    </tr>\n",
       "  </thead>\n",
       "  <tbody>\n",
       "    <tr>\n",
       "      <th>count</th>\n",
       "      <td>3.229000e+03</td>\n",
       "      <td>3229.000000</td>\n",
       "      <td>3229.000000</td>\n",
       "      <td>3.229000e+03</td>\n",
       "      <td>3229.000000</td>\n",
       "      <td>3229.000000</td>\n",
       "      <td>3229.000000</td>\n",
       "    </tr>\n",
       "    <tr>\n",
       "      <th>mean</th>\n",
       "      <td>4.065444e+07</td>\n",
       "      <td>44780.705791</td>\n",
       "      <td>29.033689</td>\n",
       "      <td>1.212430e+08</td>\n",
       "      <td>110.724373</td>\n",
       "      <td>6.309353</td>\n",
       "      <td>977.287395</td>\n",
       "    </tr>\n",
       "    <tr>\n",
       "      <th>std</th>\n",
       "      <td>4.439674e+07</td>\n",
       "      <td>74609.434723</td>\n",
       "      <td>36.165730</td>\n",
       "      <td>1.863029e+08</td>\n",
       "      <td>20.965694</td>\n",
       "      <td>0.873891</td>\n",
       "      <td>1414.309577</td>\n",
       "    </tr>\n",
       "    <tr>\n",
       "      <th>min</th>\n",
       "      <td>1.000000e+00</td>\n",
       "      <td>5.000000</td>\n",
       "      <td>0.019984</td>\n",
       "      <td>5.000000e+00</td>\n",
       "      <td>41.000000</td>\n",
       "      <td>0.000000</td>\n",
       "      <td>0.000000</td>\n",
       "    </tr>\n",
       "    <tr>\n",
       "      <th>25%</th>\n",
       "      <td>1.050000e+07</td>\n",
       "      <td>4958.000000</td>\n",
       "      <td>10.446722</td>\n",
       "      <td>1.700000e+07</td>\n",
       "      <td>96.000000</td>\n",
       "      <td>5.800000</td>\n",
       "      <td>178.000000</td>\n",
       "    </tr>\n",
       "    <tr>\n",
       "      <th>50%</th>\n",
       "      <td>2.500000e+07</td>\n",
       "      <td>11451.000000</td>\n",
       "      <td>20.410354</td>\n",
       "      <td>5.518472e+07</td>\n",
       "      <td>107.000000</td>\n",
       "      <td>6.300000</td>\n",
       "      <td>471.000000</td>\n",
       "    </tr>\n",
       "    <tr>\n",
       "      <th>75%</th>\n",
       "      <td>5.500000e+07</td>\n",
       "      <td>45272.000000</td>\n",
       "      <td>37.335721</td>\n",
       "      <td>1.462920e+08</td>\n",
       "      <td>121.000000</td>\n",
       "      <td>6.900000</td>\n",
       "      <td>1148.000000</td>\n",
       "    </tr>\n",
       "    <tr>\n",
       "      <th>max</th>\n",
       "      <td>3.800000e+08</td>\n",
       "      <td>417859.000000</td>\n",
       "      <td>875.581305</td>\n",
       "      <td>2.787965e+09</td>\n",
       "      <td>338.000000</td>\n",
       "      <td>8.500000</td>\n",
       "      <td>13752.000000</td>\n",
       "    </tr>\n",
       "  </tbody>\n",
       "</table>\n",
       "</div>"
      ],
      "text/plain": [
       "             budget             id   popularity       revenue      runtime  \\\n",
       "count  3.229000e+03    3229.000000  3229.000000  3.229000e+03  3229.000000   \n",
       "mean   4.065444e+07   44780.705791    29.033689  1.212430e+08   110.724373   \n",
       "std    4.439674e+07   74609.434723    36.165730  1.863029e+08    20.965694   \n",
       "min    1.000000e+00       5.000000     0.019984  5.000000e+00    41.000000   \n",
       "25%    1.050000e+07    4958.000000    10.446722  1.700000e+07    96.000000   \n",
       "50%    2.500000e+07   11451.000000    20.410354  5.518472e+07   107.000000   \n",
       "75%    5.500000e+07   45272.000000    37.335721  1.462920e+08   121.000000   \n",
       "max    3.800000e+08  417859.000000   875.581305  2.787965e+09   338.000000   \n",
       "\n",
       "       vote_average    vote_count  \n",
       "count   3229.000000   3229.000000  \n",
       "mean       6.309353    977.287395  \n",
       "std        0.873891   1414.309577  \n",
       "min        0.000000      0.000000  \n",
       "25%        5.800000    178.000000  \n",
       "50%        6.300000    471.000000  \n",
       "75%        6.900000   1148.000000  \n",
       "max        8.500000  13752.000000  "
      ]
     },
     "execution_count": 16,
     "metadata": {},
     "output_type": "execute_result"
    }
   ],
   "source": [
    "movies.describe()"
   ]
  },
  {
   "cell_type": "code",
   "execution_count": 17,
   "metadata": {},
   "outputs": [
    {
     "name": "stdout",
     "output_type": "stream",
     "text": [
      "<class 'pandas.core.frame.DataFrame'>\n",
      "Int64Index: 3229 entries, 0 to 4798\n",
      "Data columns (total 7 columns):\n",
      "budget          3229 non-null float64\n",
      "id              3229 non-null int64\n",
      "popularity      3229 non-null float64\n",
      "revenue         3229 non-null float64\n",
      "runtime         3229 non-null float64\n",
      "vote_average    3229 non-null float64\n",
      "vote_count      3229 non-null int64\n",
      "dtypes: float64(5), int64(2)\n",
      "memory usage: 201.8 KB\n"
     ]
    }
   ],
   "source": [
    "movies.info()"
   ]
  },
  {
   "cell_type": "code",
   "execution_count": 18,
   "metadata": {},
   "outputs": [
    {
     "data": {
      "text/plain": [
       "20000000.0     126\n",
       "25000000.0     115\n",
       "30000000.0     114\n",
       "40000000.0     111\n",
       "15000000.0     107\n",
       "50000000.0      99\n",
       "35000000.0      87\n",
       "60000000.0      77\n",
       "10000000.0      73\n",
       "5000000.0       66\n",
       "12000000.0      64\n",
       "70000000.0      59\n",
       "80000000.0      57\n",
       "8000000.0       49\n",
       "18000000.0      49\n",
       "45000000.0      47\n",
       "6000000.0       45\n",
       "75000000.0      45\n",
       "2000000.0       44\n",
       "28000000.0      42\n",
       "55000000.0      41\n",
       "7000000.0       40\n",
       "150000000.0     40\n",
       "3000000.0       40\n",
       "100000000.0     40\n",
       "4000000.0       37\n",
       "14000000.0      36\n",
       "13000000.0      35\n",
       "17000000.0      34\n",
       "90000000.0      34\n",
       "              ... \n",
       "17900000.0       1\n",
       "2380000.0        1\n",
       "12600000.0       1\n",
       "270000000.0      1\n",
       "450000.0         1\n",
       "14200000.0       1\n",
       "2053648.0        1\n",
       "22500000.0       1\n",
       "12806000.0       1\n",
       "133000000.0      1\n",
       "609000.0         1\n",
       "35866397.0       1\n",
       "12300000.0       1\n",
       "31115000.0       1\n",
       "31192.0          1\n",
       "4600000.0        1\n",
       "7200000.0        1\n",
       "3730500.0        1\n",
       "312000.0         1\n",
       "1488423.0        1\n",
       "3400000.0        1\n",
       "777000.0         1\n",
       "560000.0         1\n",
       "21150000.0       1\n",
       "19100000.0       1\n",
       "878000.0         1\n",
       "49900000.0       1\n",
       "26500000.0       1\n",
       "5300000.0        1\n",
       "30.0             1\n",
       "Name: budget, Length: 385, dtype: int64"
      ]
     },
     "execution_count": 18,
     "metadata": {},
     "output_type": "execute_result"
    }
   ],
   "source": [
    "movies['budget'].value_counts()"
   ]
  },
  {
   "cell_type": "code",
   "execution_count": 19,
   "metadata": {},
   "outputs": [
    {
     "name": "stderr",
     "output_type": "stream",
     "text": [
      "/usr/local/lib/python3.5/dist-packages/matplotlib/axes/_axes.py:6462: UserWarning: The 'normed' kwarg is deprecated, and has been replaced by the 'density' kwarg.\n",
      "  warnings.warn(\"The 'normed' kwarg is deprecated, and has been \"\n"
     ]
    },
    {
     "data": {
      "text/plain": [
       "<matplotlib.axes._subplots.AxesSubplot at 0x7fd550d8d438>"
      ]
     },
     "execution_count": 19,
     "metadata": {},
     "output_type": "execute_result"
    },
    {
     "data": {
      "image/png": "[encoded data removed]",
      "text/plain": [
       "<Figure size 432x288 with 1 Axes>"
      ]
     },
     "metadata": {},
     "output_type": "display_data"
    }
   ],
   "source": [
    "sns.distplot(movies['budget'])"
   ]
  },
  {
   "cell_type": "code",
   "execution_count": 20,
   "metadata": {},
   "outputs": [
    {
     "data": {
      "text/plain": [
       "{'boxes': [<matplotlib.lines.Line2D at 0x7fd550c17c88>],\n",
       " 'caps': [<matplotlib.lines.Line2D at 0x7fd550c1f6d8>,\n",
       "  <matplotlib.lines.Line2D at 0x7fd550c1fb00>],\n",
       " 'fliers': [<matplotlib.lines.Line2D at 0x7fd550c25390>],\n",
       " 'means': [],\n",
       " 'medians': [<matplotlib.lines.Line2D at 0x7fd550c1ff28>],\n",
       " 'whiskers': [<matplotlib.lines.Line2D at 0x7fd550c17dd8>,\n",
       "  <matplotlib.lines.Line2D at 0x7fd550c1f2b0>]}"
      ]
     },
     "execution_count": 20,
     "metadata": {},
     "output_type": "execute_result"
    },
    {
     "data": {
      "image/png": "[encoded data removed]",
      "text/plain": [
       "<Figure size 432x288 with 1 Axes>"
      ]
     },
     "metadata": {},
     "output_type": "display_data"
    }
   ],
   "source": [
    "plt.boxplot(movies['budget'])"
   ]
  },
  {
   "cell_type": "code",
   "execution_count": 22,
   "metadata": {},
   "outputs": [
    {
     "data": {
      "text/plain": [
       "<matplotlib.axes._subplots.AxesSubplot at 0x7fd550c42c88>"
      ]
     },
     "execution_count": 22,
     "metadata": {},
     "output_type": "execute_result"
    },
    {
     "data": {
      "image/png": "[encoded data removed]",
      "text/plain": [
       "<Figure size 432x288 with 1 Axes>"
      ]
     },
     "metadata": {},
     "output_type": "display_data"
    }
   ],
   "source": [
    "sns.boxplot(movies['budget'])"
   ]
  },
  {
   "cell_type": "code",
   "execution_count": 32,
   "metadata": {},
   "outputs": [
    {
     "data": {
      "text/plain": [
       "4238            1.0\n",
       "3611            4.0\n",
       "3372            7.0\n",
       "3419            7.0\n",
       "4608            8.0\n",
       "3131           10.0\n",
       "3137           10.0\n",
       "2933           11.0\n",
       "1912           25.0\n",
       "1771           28.0\n",
       "1562           30.0\n",
       "4582          218.0\n",
       "4641          250.0\n",
       "4796         7000.0\n",
       "4696         8000.0\n",
       "4724        10000.0\n",
       "4788        12000.0\n",
       "4577        15000.0\n",
       "4792        20000.0\n",
       "4773        27000.0\n",
       "4772        31192.0\n",
       "4496        60000.0\n",
       "4738        60000.0\n",
       "4752        65000.0\n",
       "4742        65000.0\n",
       "3159        85000.0\n",
       "4722       100000.0\n",
       "4138       100000.0\n",
       "4700       100000.0\n",
       "4723       100000.0\n",
       "           ...     \n",
       "45      200000000.0\n",
       "60      200000000.0\n",
       "59      200000000.0\n",
       "24      207000000.0\n",
       "27      209000000.0\n",
       "33      210000000.0\n",
       "36      210000000.0\n",
       "20      215000000.0\n",
       "16      220000000.0\n",
       "14      225000000.0\n",
       "15      225000000.0\n",
       "18      225000000.0\n",
       "0       237000000.0\n",
       "2       245000000.0\n",
       "3       250000000.0\n",
       "9       250000000.0\n",
       "26      250000000.0\n",
       "19      250000000.0\n",
       "98      250000000.0\n",
       "22      250000000.0\n",
       "46      250000000.0\n",
       "8       250000000.0\n",
       "13      255000000.0\n",
       "5       258000000.0\n",
       "6       260000000.0\n",
       "4       260000000.0\n",
       "10      270000000.0\n",
       "7       280000000.0\n",
       "1       300000000.0\n",
       "17      380000000.0\n",
       "Name: budget, Length: 3229, dtype: float64"
      ]
     },
     "execution_count": 32,
     "metadata": {},
     "output_type": "execute_result"
    }
   ],
   "source": [
    "movies['budget'].sort_values()"
   ]
  },
  {
   "cell_type": "markdown",
   "metadata": {},
   "source": [
    "### Standardizing Data"
   ]
  },
  {
   "cell_type": "code",
   "execution_count": 33,
   "metadata": {},
   "outputs": [],
   "source": [
    "from sklearn.preprocessing import StandardScaler"
   ]
  },
  {
   "cell_type": "code",
   "execution_count": 37,
   "metadata": {},
   "outputs": [
    {
     "data": {
      "text/plain": [
       "array([[ 4.42320670e+00,  3.35739643e+00,  1.43161254e+01,\n",
       "         2.44607069e+00,  1.01933200e+00,  7.65347915e+00],\n",
       "       [ 5.84244953e+00,  3.04337758e+00,  4.50818140e+00,\n",
       "         2.78000117e+00,  6.75986642e-01,  2.49115064e+00],\n",
       "       [ 4.60342801e+00,  2.16656028e+00,  4.07695973e+00,\n",
       "         1.77820973e+00, -1.07040670e-02,  2.46710692e+00],\n",
       "       ...,\n",
       "       [-9.15399119e-01, -7.97044872e-01, -6.50353504e-01,\n",
       "         1.31486142e-02,  1.24822890e+00, -6.46555052e-01],\n",
       "       [-9.15691979e-01, -1.58344001e-01, -6.48604682e-01,\n",
       "        -1.60879943e+00,  6.75986642e-01, -2.25789921e-01],\n",
       "       [-9.10893586e-01, -4.08292140e-01, -6.39928432e-01,\n",
       "        -1.41798202e+00,  3.32641287e-01, -5.22800602e-01]])"
      ]
     },
     "execution_count": 37,
     "metadata": {},
     "output_type": "execute_result"
    }
   ],
   "source": [
    "movie_scale = movies[[i for i in movies.columns if i!='id']]\n",
    "scaler = StandardScaler()\n",
    "\n",
    "scaler.fit_transform(movie_scale)"
   ]
  },
  {
   "cell_type": "code",
   "execution_count": 38,
   "metadata": {},
   "outputs": [
    {
     "data": {
      "text/plain": [
       "<matplotlib.axes._subplots.AxesSubplot at 0x7fd5505eed30>"
      ]
     },
     "execution_count": 38,
     "metadata": {},
     "output_type": "execute_result"
    },
    {
     "data": {
      "image/png": "[encoded data removed]",
      "text/plain": [
       "<Figure size 432x288 with 2 Axes>"
      ]
     },
     "metadata": {},
     "output_type": "display_data"
    }
   ],
   "source": [
    "sns.heatmap(movie_scale)"
   ]
  },
  {
   "cell_type": "code",
   "execution_count": null,
   "metadata": {},
   "outputs": [],
   "source": []
  }
 ],
 "metadata": {
  "kernelspec": {
   "display_name": "Python 3",
   "language": "python",
   "name": "python3"
  },
  "language_info": {
   "codemirror_mode": {
    "name": "ipython",
    "version": 3
   },
   "file_extension": ".py",
   "mimetype": "text/x-python",
   "name": "python",
   "nbconvert_exporter": "python",
   "pygments_lexer": "ipython3",
   "version": "3.5.2"
  }
 },
 "nbformat": 4,
 "nbformat_minor": 2
}
