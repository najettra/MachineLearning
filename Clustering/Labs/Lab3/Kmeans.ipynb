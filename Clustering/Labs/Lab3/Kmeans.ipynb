{
 "cells": [
  {
   "cell_type": "code",
   "execution_count": 1,
   "metadata": {},
   "outputs": [],
   "source": [
    "import numpy as np\n",
    "import scipy as sp"
   ]
  },
  {
   "cell_type": "code",
   "execution_count": 2,
   "metadata": {},
   "outputs": [],
   "source": [
    "def distance(x,y):\n",
    "    d = np.linalg.norm(x-y)\n",
    "    return d"
   ]
  },
  {
   "cell_type": "code",
   "execution_count": 8,
   "metadata": {},
   "outputs": [],
   "source": [
    "def gravity_center(list_pts):\n",
    "    return list_pts.sum(axis=0)/list_pts.shape[0]"
   ]
  },
  {
   "cell_type": "code",
   "execution_count": 31,
   "metadata": {},
   "outputs": [],
   "source": [
    "def rand(list_pts,k):\n",
    "    elts = np.random.choice(list_pts.shape[0], k , replace=False)\n",
    "    return list_pts[elts,:]"
   ]
  },
  {
   "cell_type": "code",
   "execution_count": null,
   "metadata": {},
   "outputs": [],
   "source": []
  },
  {
   "cell_type": "code",
   "execution_count": null,
   "metadata": {},
   "outputs": [],
   "source": []
  },
  {
   "cell_type": "code",
   "execution_count": 32,
   "metadata": {},
   "outputs": [],
   "source": [
    "pts = np.random.rand(10,3)"
   ]
  },
  {
   "cell_type": "code",
   "execution_count": 33,
   "metadata": {},
   "outputs": [
    {
     "data": {
      "text/plain": [
       "array([[0.68590957, 0.48532807, 0.73444688],\n",
       "       [0.98173631, 0.15517569, 0.71819218],\n",
       "       [0.78383023, 0.63338171, 0.04533069],\n",
       "       [0.13233963, 0.66417302, 0.84769924],\n",
       "       [0.41486473, 0.98230878, 0.58620108],\n",
       "       [0.50453356, 0.42198057, 0.18023957],\n",
       "       [0.70875088, 0.14948117, 0.31242988],\n",
       "       [0.21489467, 0.9852987 , 0.98934082],\n",
       "       [0.63465971, 0.82443455, 0.16857342],\n",
       "       [0.89397856, 0.15373306, 0.60863204]])"
      ]
     },
     "execution_count": 33,
     "metadata": {},
     "output_type": "execute_result"
    }
   ],
   "source": [
    "pts"
   ]
  },
  {
   "cell_type": "code",
   "execution_count": 34,
   "metadata": {},
   "outputs": [
    {
     "data": {
      "text/plain": [
       "0.025063881741647198"
      ]
     },
     "execution_count": 34,
     "metadata": {},
     "output_type": "execute_result"
    }
   ],
   "source": [
    "distance(pts[1,1],pts[5,2])"
   ]
  },
  {
   "cell_type": "code",
   "execution_count": 35,
   "metadata": {},
   "outputs": [
    {
     "data": {
      "text/plain": [
       "array([0.59554979, 0.54552953, 0.51910858])"
      ]
     },
     "execution_count": 35,
     "metadata": {},
     "output_type": "execute_result"
    }
   ],
   "source": [
    "gravity_center(pts)"
   ]
  },
  {
   "cell_type": "code",
   "execution_count": 36,
   "metadata": {},
   "outputs": [
    {
     "data": {
      "text/plain": [
       "array([[0.41486473, 0.98230878, 0.58620108],\n",
       "       [0.13233963, 0.66417302, 0.84769924],\n",
       "       [0.21489467, 0.9852987 , 0.98934082],\n",
       "       [0.63465971, 0.82443455, 0.16857342],\n",
       "       [0.89397856, 0.15373306, 0.60863204]])"
      ]
     },
     "execution_count": 36,
     "metadata": {},
     "output_type": "execute_result"
    }
   ],
   "source": [
    "rand(pts,5)"
   ]
  },
  {
   "cell_type": "markdown",
   "metadata": {},
   "source": [
    "### Implement KMeans"
   ]
  },
  {
   "cell_type": "code",
   "execution_count": 38,
   "metadata": {},
   "outputs": [],
   "source": [
    "X = np.random.rand(100,5)\n",
    "k = 2\n",
    "\n",
    "centroids = rand"
   ]
  },
  {
   "cell_type": "code",
   "execution_count": null,
   "metadata": {},
   "outputs": [],
   "source": []
  }
 ],
 "metadata": {
  "kernelspec": {
   "display_name": "Python 3",
   "language": "python",
   "name": "python3"
  },
  "language_info": {
   "codemirror_mode": {
    "name": "ipython",
    "version": 3
   },
   "file_extension": ".py",
   "mimetype": "text/x-python",
   "name": "python",
   "nbconvert_exporter": "python",
   "pygments_lexer": "ipython3",
   "version": "3.5.2"
  }
 },
 "nbformat": 4,
 "nbformat_minor": 2
}
